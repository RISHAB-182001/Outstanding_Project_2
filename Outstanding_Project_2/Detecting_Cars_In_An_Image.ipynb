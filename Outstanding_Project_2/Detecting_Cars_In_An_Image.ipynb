
#### CODE FOR DETECTING CARS IN AN IMAGE ...USING A PRE-TRAINED DATASET


from google.colab.patches import cv2_imshow
import cv2

# Our Image
img_file = 'img.png'

# Our pre-trained car classifier
classifier_file = 'cars.xml'


# create opencv image
img = cv2.imread(img_file)# Reads in the pixel data of the image file into a multi-dimensional array,so that every pixel has its own data

#Convert to Grayscale(Needed for HAAR Cascade,to make codes simpler and detection easier)
black_n_white = cv2.cvtColor(img, cv2.COLOR_BGR2GRAY)

#Create a Car Classifier
car_tracker = cv2.CascadeClassifier(classifier_file)

# Detect Cars
cars = car_tracker.detectMultiScale(black_n_white)

# Draw Rectangles around the cars
for (x, y, w, h) in cars:
    cv2.rectangle(img, (x, y), (x+w, y+h), (0, 0, 255), 2)



#Display the image with the cars
cv2_imshow(img)

#Displays the output until a key is pressed to exit
cv2.waitKey()

print("Code Completed")
